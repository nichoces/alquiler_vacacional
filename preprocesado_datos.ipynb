{
 "cells": [
  {
   "cell_type": "code",
   "execution_count": 483,
   "metadata": {},
   "outputs": [],
   "source": [
    "import pandas as pd\n",
    "import numpy as np\n",
    "import seaborn as sns\n",
    "import matplotlib.pyplot as plt \n",
    "import sklearn\n",
    "import ast\n",
    "from sklearn.preprocessing import LabelEncoder\n",
    "from sklearn.preprocessing import StandardScaler\n",
    "from sklearn.neighbors import KNeighborsRegressor\n",
    "from sklearn.preprocessing import OneHotEncoder"
   ]
  },
  {
   "cell_type": "code",
   "execution_count": 484,
   "metadata": {},
   "outputs": [],
   "source": [
    "df = pd.read_csv(r'./data/raw_data.csv')\n",
    "df = df[df['room_type'] == 'Entire home/apt']\n",
    "df.drop(['name','bathrooms','listing_url','scrape_id','last_scraped','source','description','neighborhood_overview',\n",
    "         'picture_url','host_id','host_url','host_name','host_since','host_about','host_acceptance_rate',\n",
    "         'host_thumbnail_url', 'host_picture_url','host_listings_count', 'host_total_listings_count',\n",
    "         'host_verifications','host_has_profile_pic','host_response_time','host_location','host_neighbourhood',\n",
    "         'host_identity_verified','property_type','calculated_host_listings_count_private_rooms',\n",
    "         'calculated_host_listings_count_shared_rooms','reviews_per_month','license','instant_bookable',\n",
    "         'calculated_host_listings_count','calculated_host_listings_count_entire_homes',\n",
    "         'number_of_reviews_l30d', 'first_review', 'last_review', 'review_scores_rating',\n",
    "         'review_scores_accuracy','review_scores_cleanliness','review_scores_checkin',\n",
    "         'review_scores_communication','review_scores_location','calendar_updated', 'has_availability',\t\n",
    "         'availability_30', 'availability_60',\t'availability_90', 'availability_365', 'calendar_last_scraped',\n",
    "         'number_of_reviews', 'number_of_reviews_ltm','minimum_nights',\t'maximum_nights',\t\n",
    "         'minimum_minimum_nights', 'maximum_minimum_nights', 'minimum_maximum_nights',\t\n",
    "         'maximum_maximum_nights', 'minimum_nights_avg_ntm','maximum_nights_avg_ntm','neighbourhood','room_type'],axis=1,inplace=True)\n",
    "df.rename(columns={'neighbourhood_group_cleansed': 'distrito',\n",
    "                   'neighbourhood_cleansed': 'barrio',\n",
    "                   'neighbourhood': 'localidad',\n",
    "                   'host_is_superhost':'superhost',\n",
    "                   'host_response_rate':'ratio_de_respuesta',\n",
    "                   'price': 'precio_septiembre'\n",
    "                   }, inplace=True)\n",
    "df2=pd.read_csv(r'./data/listings10JUN.csv')\n",
    "df2 = df2[df2['room_type'] == 'Entire home/apt']\n",
    "df['precio_junio']=df2['price']\n",
    "\n",
    "df3=pd.read_csv(r'./data/listings10JUN.csv')\n",
    "df3 = df3[df3['room_type'] == 'Entire home/apt']\n",
    "df['precio_diciembre']=df3['price']\n",
    "\n",
    "df4=pd.read_csv(r'./data/listings10JUN.csv')\n",
    "df4 = df4[df4['room_type'] == 'Entire home/apt']\n",
    "df['precio_marzo']=df4['price']\n"
   ]
  },
  {
   "cell_type": "code",
   "execution_count": 485,
   "metadata": {},
   "outputs": [
    {
     "data": {
      "text/plain": [
       "2           1 bath\n",
       "3           1 bath\n",
       "4           1 bath\n",
       "6           1 bath\n",
       "7           1 bath\n",
       "           ...    \n",
       "24822       1 bath\n",
       "24824       1 bath\n",
       "24825    1.5 baths\n",
       "24826       1 bath\n",
       "24827      2 baths\n",
       "Name: bathrooms_text, Length: 15638, dtype: object"
      ]
     },
     "execution_count": 485,
     "metadata": {},
     "output_type": "execute_result"
    }
   ],
   "source": [
    "map_dict = df.set_index('id')['precio_septiembre'].to_dict()\n",
    "df['precio_junio'].fillna(df['id'].map(map_dict), inplace=True)\n",
    "df['precio_diciembre'].fillna(df['id'].map(map_dict), inplace=True)\n",
    "df['precio_marzo'].fillna(df['id'].map(map_dict), inplace=True)\n",
    "df['bedrooms'].fillna(2, inplace=True)\n",
    "df['beds'].fillna(df['bedrooms'], inplace=True)\n",
    "df['ratio_de_respuesta'].fillna(0, inplace=True)\n",
    "df['review_scores_value'].fillna(4.77, inplace=True)\n",
    "df['bathrooms_text'].dropna()"
   ]
  },
  {
   "cell_type": "code",
   "execution_count": 486,
   "metadata": {},
   "outputs": [],
   "source": [
    "df['superhost'] = df['superhost'].replace({'t': 1, 'f': 0})"
   ]
  },
  {
   "cell_type": "code",
   "execution_count": 487,
   "metadata": {},
   "outputs": [],
   "source": [
    "df['precio_junio'] = df['precio_junio'].str.replace('$', '')\n",
    "df['precio_septiembre'] = df['precio_septiembre'].str.replace('$', '')\n",
    "df['precio_diciembre'] = df['precio_diciembre'].str.replace('$', '')\n",
    "df['precio_marzo'] = df['precio_marzo'].str.replace('$', '')\n",
    "df['precio_junio'] = df['precio_junio'].str.replace(',', '')\n",
    "df['precio_septiembre'] = df['precio_septiembre'].str.replace(',', '')\n",
    "df['precio_diciembre'] = df['precio_diciembre'].str.replace(',', '')\n",
    "df['precio_marzo'] = df['precio_marzo'].str.replace(',', '')\n",
    "df['ratio_de_respuesta'] = df['ratio_de_respuesta'].str.replace('%', '')\n",
    "df['bathrooms_text']=df['bathrooms_text'].str.replace(' bath','')\n",
    "df['bathrooms_text']=df['bathrooms_text'].str.replace('s','')\n",
    "df['bathrooms_text']=df['bathrooms_text'].str.replace('Half-bath','0.5')\n",
    "df['room_type']=1\n",
    "df['localidad']='Madrid, España'"
   ]
  },
  {
   "cell_type": "code",
   "execution_count": 488,
   "metadata": {},
   "outputs": [],
   "source": [
    "df['ratio_de_respuesta'].fillna(4.77, inplace=True)"
   ]
  },
  {
   "cell_type": "code",
   "execution_count": 489,
   "metadata": {},
   "outputs": [],
   "source": [
    "df['precio_junio'] = df['precio_junio'].astype(float)\n",
    "df['precio_septiembre'] = df['precio_septiembre'].astype(float)\n",
    "df['precio_diciembre'] = df['precio_diciembre'].astype(float)\n",
    "df['precio_marzo'] = df['precio_marzo'].astype(float)\n",
    "df['bedrooms']=df['bedrooms'].astype(int)\n",
    "df['beds']=df['beds'].astype(int)\n",
    "df['ratio_de_respuesta']=df['ratio_de_respuesta'].astype(int)\n",
    "df['bathrooms_text']=df['bathrooms_text'].astype(float)\n",
    "df['superhost']=df['superhost'].astype(bool)\n",
    "df['room_type']=df['room_type'].astype(int)"
   ]
  },
  {
   "cell_type": "code",
   "execution_count": 490,
   "metadata": {},
   "outputs": [],
   "source": [
    "df['precio_total'] = df[['precio_septiembre', 'precio_junio', 'precio_diciembre', 'precio_marzo']].median(axis=1)"
   ]
  },
  {
   "cell_type": "code",
   "execution_count": 491,
   "metadata": {},
   "outputs": [],
   "source": [
    "df.drop(['localidad','barrio','precio_septiembre','precio_junio','precio_diciembre','precio_marzo','latitude','longitude'],axis=1,inplace=True)"
   ]
  },
  {
   "cell_type": "code",
   "execution_count": 492,
   "metadata": {},
   "outputs": [],
   "source": [
    "df['bathrooms_text'] = df['bathrooms_text'].dropna()\n"
   ]
  },
  {
   "cell_type": "code",
   "execution_count": 493,
   "metadata": {},
   "outputs": [],
   "source": [
    "label_encoder = LabelEncoder()\n",
    "\n",
    "# Ajustar y transformar la columna 'superhost'\n",
    "df['distrito'] = label_encoder.fit_transform(df['distrito'])\n"
   ]
  },
  {
   "cell_type": "code",
   "execution_count": 494,
   "metadata": {},
   "outputs": [
    {
     "data": {
      "text/plain": [
       "10788"
      ]
     },
     "execution_count": 494,
     "metadata": {},
     "output_type": "execute_result"
    }
   ],
   "source": [
    "df['amenities'] = df['amenities'].astype(str)\n",
    "\n",
    "# Usa el método str.contains para verificar si 'air conditioning' está presente en cada fila de la columna 'amenities'\n",
    "# y luego usa sum() para contar el número total de True (True cuenta como 1, False como 0)\n",
    "num_air_conditioning = df['amenities'].str.contains('Air conditioning', case=False).sum()\n",
    "num_air_conditioning"
   ]
  },
  {
   "cell_type": "code",
   "execution_count": 495,
   "metadata": {},
   "outputs": [],
   "source": [
    "df['amenities'] = df['amenities'].apply(lambda x: ast.literal_eval(x))"
   ]
  },
  {
   "cell_type": "code",
   "execution_count": 496,
   "metadata": {},
   "outputs": [],
   "source": [
    "df['amenities'] = df['amenities'].apply(lambda x: [tag.strip() for tag in x])"
   ]
  },
  {
   "cell_type": "code",
   "execution_count": 497,
   "metadata": {},
   "outputs": [],
   "source": [
    "suma = 0\n",
    "lista = ['Kitchen', 'Elevator', 'Wifi', 'City skyline view', 'Air conditioning']\n",
    "\n",
    "for row_index, amenities_str in enumerate(df['amenities']):\n",
    "    if row_index < len(df):\n",
    "        # Inicializa un diccionario para almacenar el estado de las amenities en la fila actual\n",
    "        row_amenities = {amenity: False for amenity in lista}\n",
    "        \n",
    "        # Itera sobre la lista de amenities y marca como True si está presente en la cadena\n",
    "        for amenity in lista:\n",
    "            if amenity in amenities_str:\n",
    "                row_amenities[amenity] = True\n",
    "\n",
    "        # Asigna los valores al DataFrame para la fila actual\n",
    "        for amenity, value in row_amenities.items():\n",
    "            df.at[row_index, amenity] = value\n",
    "\n",
    "        suma += sum(row_amenities.values())  # Incrementa suma por la cantidad de True en la fila\n",
    "    else:\n",
    "        break\n",
    "\n"
   ]
  },
  {
   "cell_type": "code",
   "execution_count": 498,
   "metadata": {},
   "outputs": [],
   "source": [
    "df= df.drop(['amenities','id'],axis=1)"
   ]
  },
  {
   "cell_type": "code",
   "execution_count": 499,
   "metadata": {},
   "outputs": [],
   "source": [
    "df= df.dropna(axis=0)"
   ]
  },
  {
   "cell_type": "code",
   "execution_count": 500,
   "metadata": {},
   "outputs": [],
   "source": [
    "df.to_csv('./data/treated_data.csv', index=False)"
   ]
  }
 ],
 "metadata": {
  "kernelspec": {
   "display_name": "Python 3",
   "language": "python",
   "name": "python3"
  },
  "language_info": {
   "codemirror_mode": {
    "name": "ipython",
    "version": 3
   },
   "file_extension": ".py",
   "mimetype": "text/x-python",
   "name": "python",
   "nbconvert_exporter": "python",
   "pygments_lexer": "ipython3",
   "version": "3.11.5"
  },
  "orig_nbformat": 4
 },
 "nbformat": 4,
 "nbformat_minor": 2
}
